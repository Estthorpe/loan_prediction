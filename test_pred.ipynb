{
 "cells": [
  {
   "cell_type": "code",
   "execution_count": 5,
   "id": "eb10e5a5-87dd-4ee6-9cac-3d2150354d22",
   "metadata": {},
   "outputs": [
    {
     "name": "stdout",
     "output_type": "stream",
     "text": [
      "🎯 Default Probability: 80.57 %\n",
      "📊 Risk Classification: High Risk\n"
     ]
    },
    {
     "name": "stderr",
     "output_type": "stream",
     "text": [
      "C:\\Users\\enuzo\\Documents\\Project Portfolio\\machine_learning\\loan_prediction\\venv\\Lib\\site-packages\\sklearn\\utils\\validation.py:2739: UserWarning: X does not have valid feature names, but StandardScaler was fitted with feature names\n",
      "  warnings.warn(\n"
     ]
    }
   ],
   "source": [
    "# test_pred.py\n",
    "\n",
    "import numpy as np\n",
    "import joblib\n",
    "\n",
    "# Load model, scaler, and threshold\n",
    "model = joblib.load(\"models/credit_risk_model.pkl\")\n",
    "scaler = joblib.load(\"models/scaler.pkl\")\n",
    "threshold = joblib.load(\"models/threshold.pkl\")\n",
    "\n",
    "# -------------------------\n",
    "# Define New Input Example\n",
    "# -------------------------\n",
    "\n",
    "# Format: [9 numeric] + [2 engineered] + [15 encoded] = 26 total\n",
    "sample_input = np.array([[35, 60000, 15000, 650, 24, 3, 13.5, 36, 0.4,\n",
    "                          # Engineered Features\n",
    "                          0.25, 0.057,  # LoanToIncome, EmploymentDurationRatio\n",
    "\n",
    "                          # Encoded: Education (Bachelor's)\n",
    "                          0, 0,\n",
    "                          # Employment (Self-employed)\n",
    "                          0, 1, 0,\n",
    "                          # Marital (Married)\n",
    "                          1, 0,\n",
    "                          # HasMortgage: Yes, No\n",
    "                          1, 0,\n",
    "                          # HasDependents: No, Yes\n",
    "                          0, 1,\n",
    "                          # LoanPurpose: Home\n",
    "                          0, 1, 0,\n",
    "                          # HasCoSigner: Yes\n",
    "                          1]])\n",
    "\n",
    "# -------------------------\n",
    "# Scale the numeric + engineered features (first 11)\n",
    "# -------------------------\n",
    "numeric_scaled = scaler.transform(sample_input[:, :11])\n",
    "encoded_part = sample_input[:, 11:]\n",
    "\n",
    "# Combine\n",
    "final_input = np.concatenate([numeric_scaled, encoded_part], axis=1)\n",
    "\n",
    "# Prediction using threshold\n",
    "risk_prob = model.predict_proba(final_input)[0][1]\n",
    "risk_label = \"High Risk\" if risk_prob >= threshold else \"Low Risk\"\n",
    "\n",
    "# -------------------------\n",
    "# Output\n",
    "# -------------------------\n",
    "print(\"🎯 Default Probability:\", round(risk_prob * 100, 2), \"%\")\n",
    "print(\"📊 Risk Classification:\", risk_label)\n"
   ]
  },
  {
   "cell_type": "code",
   "execution_count": null,
   "id": "fc4829d4-012a-466a-a4ed-f5e32dc85126",
   "metadata": {},
   "outputs": [],
   "source": []
  },
  {
   "cell_type": "code",
   "execution_count": null,
   "id": "66b011b9-bebf-40d2-8ad2-5a10edad836d",
   "metadata": {},
   "outputs": [],
   "source": []
  },
  {
   "cell_type": "code",
   "execution_count": null,
   "id": "5df57027-828f-4ecb-a3a9-7aff9a520773",
   "metadata": {},
   "outputs": [],
   "source": []
  }
 ],
 "metadata": {
  "kernelspec": {
   "display_name": "Python 3 (ipykernel)",
   "language": "python",
   "name": "python3"
  },
  "language_info": {
   "codemirror_mode": {
    "name": "ipython",
    "version": 3
   },
   "file_extension": ".py",
   "mimetype": "text/x-python",
   "name": "python",
   "nbconvert_exporter": "python",
   "pygments_lexer": "ipython3",
   "version": "3.12.4"
  }
 },
 "nbformat": 4,
 "nbformat_minor": 5
}
