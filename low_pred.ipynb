{
 "cells": [
  {
   "cell_type": "code",
   "execution_count": 3,
   "id": "52ddc322-9755-4969-962c-7fc0f5cf4aab",
   "metadata": {},
   "outputs": [
    {
     "name": "stdout",
     "output_type": "stream",
     "text": [
      "🎯 Predicted Default Probability: 42.26 %\n",
      "📊 Risk Classification: High Risk\n"
     ]
    },
    {
     "name": "stderr",
     "output_type": "stream",
     "text": [
      "C:\\Users\\enuzo\\Documents\\Project Portfolio\\machine_learning\\loan_prediction\\venv\\Lib\\site-packages\\sklearn\\utils\\validation.py:2739: UserWarning: X does not have valid feature names, but StandardScaler was fitted with feature names\n",
      "  warnings.warn(\n"
     ]
    }
   ],
   "source": [
    "# test_low_pred.py\n",
    "\n",
    "import numpy as np\n",
    "import joblib\n",
    "\n",
    "# Load model, scaler, and threshold\n",
    "model = joblib.load(\"models/credit_risk_model.pkl\")\n",
    "scaler = joblib.load(\"models/scaler.pkl\")\n",
    "threshold = joblib.load(\"models/threshold.pkl\")\n",
    "\n",
    "# -------------------------\n",
    "# Correct Input Order (26 columns total)\n",
    "# [9 numeric] + [15 encoded] + [2 engineered]\n",
    "# -------------------------\n",
    "\n",
    "sample_input = np.array([[45, 150000, 10000, 720, 240, 8, 6.5, 36, 0.2,      # numeric\n",
    "                          # One-hot encoded: 15\n",
    "                          0, 0, 1,         # Education: PhD\n",
    "                          0, 1, 0,         # Employment: Self-employed\n",
    "                          1, 0,            # Marital: Married\n",
    "                          1,               # HasMortgage_Yes\n",
    "                          0,               # HasDependents_Yes\n",
    "                          0, 0, 1, 0,      # LoanPurpose: Home\n",
    "                          0,               # HasCoSigner_Yes: No\n",
    "                          # Engineered Features\n",
    "                          0.066,           # LoanToIncome\n",
    "                          0.44             # EmploymentDurationRatio\n",
    "                          ]])\n",
    "\n",
    "# Scale numeric + engineered (cols 0-8 and 24-25)\n",
    "numeric_cols = np.concatenate([sample_input[:, :9], sample_input[:, -2:]], axis=1)\n",
    "encoded_cols = sample_input[:, 9:-2]\n",
    "\n",
    "# Scale numeric + engineered together\n",
    "numeric_scaled = scaler.transform(numeric_cols)\n",
    "\n",
    "# Combine final input\n",
    "final_input = np.concatenate([numeric_scaled, encoded_cols], axis=1)\n",
    "\n",
    "# Predict\n",
    "risk_prob = model.predict_proba(final_input)[0][1]\n",
    "risk_label = \"High Risk\" if risk_prob >= threshold else \"Low Risk\"\n",
    "\n",
    "# Output\n",
    "print(\"🎯 Predicted Default Probability:\", round(risk_prob * 100, 2), \"%\")\n",
    "print(\"📊 Risk Classification:\", risk_label)\n"
   ]
  },
  {
   "cell_type": "code",
   "execution_count": null,
   "id": "5cc15c89-ea71-437a-b1c0-f8d126af2b76",
   "metadata": {},
   "outputs": [],
   "source": []
  },
  {
   "cell_type": "code",
   "execution_count": null,
   "id": "a2cccac4-4475-41b6-b70e-b7426a79352e",
   "metadata": {},
   "outputs": [],
   "source": []
  }
 ],
 "metadata": {
  "kernelspec": {
   "display_name": "Python 3 (ipykernel)",
   "language": "python",
   "name": "python3"
  },
  "language_info": {
   "codemirror_mode": {
    "name": "ipython",
    "version": 3
   },
   "file_extension": ".py",
   "mimetype": "text/x-python",
   "name": "python",
   "nbconvert_exporter": "python",
   "pygments_lexer": "ipython3",
   "version": "3.12.4"
  }
 },
 "nbformat": 4,
 "nbformat_minor": 5
}
